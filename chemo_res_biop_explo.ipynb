{
 "cells": [
  {
   "cell_type": "markdown",
   "metadata": {},
   "source": [
    "# Chemotherapy Resistant Biopsied Exploration\n",
    "For exploration of chemotherapy resistance in biopsied samples, this Jupyter Notebook provides a playground for analyzing and visualizing the data."
   ]
  },
  {
   "cell_type": "code",
   "execution_count": 1,
   "metadata": {},
   "outputs": [],
   "source": [
    "import os\n",
    "import numpy as np\n",
    "import pandas as pd\n",
    "import ast\n",
    "import glob\n",
    "from PIL import Image"
   ]
  },
  {
   "cell_type": "code",
   "execution_count": 2,
   "metadata": {},
   "outputs": [],
   "source": [
    "DATA_DIR = os.path.join('data', 'chemo_res_biop')\n",
    "RES_DATA = os.path.join(DATA_DIR, 'Resistant')\n",
    "SEN_DATA = os.path.join(DATA_DIR, 'Sensitive')\n",
    "\n",
    "RES_FILES = glob.glob(os.path.join(RES_DATA, '*.png'))\n",
    "SEN_FILES = glob.glob(os.path.join(SEN_DATA, '*.png'))"
   ]
  },
  {
   "cell_type": "code",
   "execution_count": 3,
   "metadata": {},
   "outputs": [
    {
     "name": "stdout",
     "output_type": "stream",
     "text": [
      "{'res':     Patient Number Still Image Number Lesion/Region Number  \\\n",
      "0               75                  3                   10   \n",
      "1              100                  4                    4   \n",
      "2               50                  5                    5   \n",
      "3               50                  5                   10   \n",
      "4               99                  2                    6   \n",
      "..             ...                ...                  ...   \n",
      "365              5                  2                    3   \n",
      "366              6                  1                    1   \n",
      "367             73                  3                    1   \n",
      "368             50                  5                    8   \n",
      "369            100                  4                    9   \n",
      "\n",
      "                                                 Image  \n",
      "0    [[[161, 125, 120], [161, 125, 120], [160, 124,...  \n",
      "1    [[[199, 153, 182], [200, 154, 183], [195, 150,...  \n",
      "2    [[[157, 121, 114], [157, 121, 114], [156, 120,...  \n",
      "3    [[[182, 141, 146], [179, 138, 143], [171, 130,...  \n",
      "4    [[[149, 100, 63], [149, 100, 64], [150, 101, 6...  \n",
      "..                                                 ...  \n",
      "365  [[[157, 73, 40], [157, 73, 39], [154, 71, 37],...  \n",
      "366  [[[156, 101, 74], [155, 102, 77], [158, 106, 7...  \n",
      "367  [[[137, 105, 115], [133, 99, 106], [132, 98, 1...  \n",
      "368  [[[184, 142, 147], [186, 144, 149], [190, 148,...  \n",
      "369  [[[152, 94, 124], [152, 95, 125], [152, 95, 12...  \n",
      "\n",
      "[370 rows x 4 columns], 'sen':     Patient Number Still Image Number Lesion/Region Number  \\\n",
      "0               66                  5                    7   \n",
      "1               34                  4                    8   \n",
      "2               33                  1                    4   \n",
      "3               33                  4                   10   \n",
      "4               85                  2                   10   \n",
      "..             ...                ...                  ...   \n",
      "425             47                  2                    6   \n",
      "426             65                 3a                    7   \n",
      "427            121                  1                    7   \n",
      "428             33                  1                    9   \n",
      "429             34                  4                    5   \n",
      "\n",
      "                                                 Image  \n",
      "0    [[[233, 135, 154], [234, 135, 155], [234, 136,...  \n",
      "1    [[[168, 143, 137], [165, 141, 135], [166, 142,...  \n",
      "2    [[[194, 170, 185], [200, 175, 190], [201, 177,...  \n",
      "3    [[[173, 130, 104], [174, 130, 104], [172, 129,...  \n",
      "4    [[[183, 137, 112], [187, 141, 115], [193, 145,...  \n",
      "..                                                 ...  \n",
      "425  [[[255, 168, 136], [255, 171, 139], [255, 170,...  \n",
      "426  [[[149, 110, 112], [150, 111, 113], [151, 113,...  \n",
      "427  [[[141, 88, 92], [142, 88, 92], [143, 87, 92],...  \n",
      "428  [[[178, 153, 161], [180, 155, 163], [159, 138,...  \n",
      "429  [[[166, 139, 134], [162, 135, 130], [157, 130,...  \n",
      "\n",
      "[430 rows x 4 columns]}\n"
     ]
    }
   ],
   "source": [
    "data = {}\n",
    "\n",
    "for filetype, files in zip(['res', 'sen'], [RES_FILES, SEN_FILES]):\n",
    "    patient_numbers = []\n",
    "    still_image_numbers = []\n",
    "    lesion_numbers = []\n",
    "    all_images = []\n",
    "\n",
    "    for filename in files:\n",
    "        _, patient_image, region = os.path.basename(filename).split('_')\n",
    "        patient_number, still_image_number = patient_image.split('.')\n",
    "        lesion_number, _ = region.split('.')\n",
    "        \n",
    "        patient_numbers.append(patient_number)\n",
    "        still_image_numbers.append(still_image_number)\n",
    "        lesion_numbers.append(lesion_number)\n",
    "        \n",
    "        img = np.array(Image.open(filename))\n",
    "        \n",
    "        all_images.append(np.array(Image.open(filename)))\n",
    "\n",
    "    data[filetype] = pd.DataFrame({'Patient Number': patient_numbers, 'Still Image Number': still_image_numbers, 'Lesion/Region Number': lesion_numbers, 'Image': all_images})\n",
    "\n",
    "print(data)"
   ]
  },
  {
   "cell_type": "code",
   "execution_count": 4,
   "metadata": {},
   "outputs": [
    {
     "data": {
      "text/html": [
       "<div>\n",
       "<style scoped>\n",
       "    .dataframe tbody tr th:only-of-type {\n",
       "        vertical-align: middle;\n",
       "    }\n",
       "\n",
       "    .dataframe tbody tr th {\n",
       "        vertical-align: top;\n",
       "    }\n",
       "\n",
       "    .dataframe thead th {\n",
       "        text-align: right;\n",
       "    }\n",
       "</style>\n",
       "<table border=\"1\" class=\"dataframe\">\n",
       "  <thead>\n",
       "    <tr style=\"text-align: right;\">\n",
       "      <th></th>\n",
       "      <th>Patient Number</th>\n",
       "      <th>Still Image Number</th>\n",
       "      <th>Lesion/Region Number</th>\n",
       "      <th>Image</th>\n",
       "    </tr>\n",
       "  </thead>\n",
       "  <tbody>\n",
       "    <tr>\n",
       "      <th>count</th>\n",
       "      <td>370</td>\n",
       "      <td>370</td>\n",
       "      <td>370</td>\n",
       "      <td>370</td>\n",
       "    </tr>\n",
       "    <tr>\n",
       "      <th>unique</th>\n",
       "      <td>12</td>\n",
       "      <td>7</td>\n",
       "      <td>10</td>\n",
       "      <td>370</td>\n",
       "    </tr>\n",
       "    <tr>\n",
       "      <th>top</th>\n",
       "      <td>100</td>\n",
       "      <td>2</td>\n",
       "      <td>10</td>\n",
       "      <td>[[[161, 125, 120], [161, 125, 120], [160, 124,...</td>\n",
       "    </tr>\n",
       "    <tr>\n",
       "      <th>freq</th>\n",
       "      <td>60</td>\n",
       "      <td>100</td>\n",
       "      <td>37</td>\n",
       "      <td>1</td>\n",
       "    </tr>\n",
       "  </tbody>\n",
       "</table>\n",
       "</div>"
      ],
      "text/plain": [
       "       Patient Number Still Image Number Lesion/Region Number  \\\n",
       "count             370                370                  370   \n",
       "unique             12                  7                   10   \n",
       "top               100                  2                   10   \n",
       "freq               60                100                   37   \n",
       "\n",
       "                                                    Image  \n",
       "count                                                 370  \n",
       "unique                                                370  \n",
       "top     [[[161, 125, 120], [161, 125, 120], [160, 124,...  \n",
       "freq                                                    1  "
      ]
     },
     "execution_count": 4,
     "metadata": {},
     "output_type": "execute_result"
    }
   ],
   "source": [
    "data['res'].describe()"
   ]
  },
  {
   "cell_type": "markdown",
   "metadata": {},
   "source": [
    "In `RES_FILES`\n",
    "* 12 unique patients\n",
    "* 7 unique still image numbers\n",
    "* 10 unique region numbers\n",
    "```python\n",
    "12 * 7 * 10 = 840 > 370\n",
    "```"
   ]
  },
  {
   "cell_type": "code",
   "execution_count": 5,
   "metadata": {},
   "outputs": [
    {
     "data": {
      "text/html": [
       "<div>\n",
       "<style scoped>\n",
       "    .dataframe tbody tr th:only-of-type {\n",
       "        vertical-align: middle;\n",
       "    }\n",
       "\n",
       "    .dataframe tbody tr th {\n",
       "        vertical-align: top;\n",
       "    }\n",
       "\n",
       "    .dataframe thead th {\n",
       "        text-align: right;\n",
       "    }\n",
       "</style>\n",
       "<table border=\"1\" class=\"dataframe\">\n",
       "  <thead>\n",
       "    <tr style=\"text-align: right;\">\n",
       "      <th></th>\n",
       "      <th>Patient Number</th>\n",
       "      <th>Still Image Number</th>\n",
       "      <th>Lesion/Region Number</th>\n",
       "      <th>Image</th>\n",
       "    </tr>\n",
       "  </thead>\n",
       "  <tbody>\n",
       "    <tr>\n",
       "      <th>count</th>\n",
       "      <td>430</td>\n",
       "      <td>430</td>\n",
       "      <td>430</td>\n",
       "      <td>430</td>\n",
       "    </tr>\n",
       "    <tr>\n",
       "      <th>unique</th>\n",
       "      <td>15</td>\n",
       "      <td>10</td>\n",
       "      <td>10</td>\n",
       "      <td>430</td>\n",
       "    </tr>\n",
       "    <tr>\n",
       "      <th>top</th>\n",
       "      <td>85</td>\n",
       "      <td>1</td>\n",
       "      <td>7</td>\n",
       "      <td>[[[233, 135, 154], [234, 135, 155], [234, 136,...</td>\n",
       "    </tr>\n",
       "    <tr>\n",
       "      <th>freq</th>\n",
       "      <td>60</td>\n",
       "      <td>110</td>\n",
       "      <td>43</td>\n",
       "      <td>1</td>\n",
       "    </tr>\n",
       "  </tbody>\n",
       "</table>\n",
       "</div>"
      ],
      "text/plain": [
       "       Patient Number Still Image Number Lesion/Region Number  \\\n",
       "count             430                430                  430   \n",
       "unique             15                 10                   10   \n",
       "top                85                  1                    7   \n",
       "freq               60                110                   43   \n",
       "\n",
       "                                                    Image  \n",
       "count                                                 430  \n",
       "unique                                                430  \n",
       "top     [[[233, 135, 154], [234, 135, 155], [234, 136,...  \n",
       "freq                                                    1  "
      ]
     },
     "execution_count": 5,
     "metadata": {},
     "output_type": "execute_result"
    }
   ],
   "source": [
    "data['sen'].describe()"
   ]
  },
  {
   "cell_type": "markdown",
   "metadata": {},
   "source": [
    "In `RES_FILES`\n",
    "* 15 unique patients\n",
    "* 10 unique still image numbers\n",
    "* 10 unique region numbers\n",
    "```python\n",
    "15 * 10 * 10 = 1500 > 430\n",
    "```"
   ]
  },
  {
   "cell_type": "code",
   "execution_count": 6,
   "metadata": {},
   "outputs": [],
   "source": [
    "res_images = data['res']['Image']\n",
    "sen_images = data['sen']['Image']"
   ]
  },
  {
   "cell_type": "code",
   "execution_count": 7,
   "metadata": {},
   "outputs": [],
   "source": [
    "import matplotlib.pyplot as plt\n",
    "\n",
    "def create_histogram(images, title='Pixel Value Histogram'):\n",
    "    # Flatten the images to 1D arrays\n",
    "    flattened_images = [image.flatten() for image in images]\n",
    "\n",
    "    # Concatenate the flattened arrays into a single 1D array\n",
    "    all_pixels = np.concatenate(flattened_images)\n",
    "\n",
    "    # Create a histogram\n",
    "    plt.hist(all_pixels, bins=256, range=(0, 256), density=True, color='blue', alpha=0.7)\n",
    "\n",
    "    # Set plot labels and title\n",
    "    plt.xlabel('Pixel Value')\n",
    "    plt.ylabel('Frequency')\n",
    "    plt.title(title)\n",
    "\n",
    "    # Show the plot\n",
    "    plt.show()"
   ]
  },
  {
   "cell_type": "code",
   "execution_count": 8,
   "metadata": {},
   "outputs": [
    {
     "data": {
      "image/png": "[encoded data removed]",
      "text/plain": [
       "<Figure size 640x480 with 1 Axes>"
      ]
     },
     "metadata": {},
     "output_type": "display_data"
    }
   ],
   "source": [
    "create_histogram(res_images, 'Resistant Pixel Value Histogram')"
   ]
  },
  {
   "cell_type": "code",
   "execution_count": 9,
   "metadata": {},
   "outputs": [
    {
     "data": {
      "image/png": "[encoded data removed]",
      "text/plain": [
       "<Figure size 640x480 with 1 Axes>"
      ]
     },
     "metadata": {},
     "output_type": "display_data"
    }
   ],
   "source": [
    "create_histogram(sen_images, 'Sensitive Pixel Value Histogram')"
   ]
  }
 ],
 "metadata": {
  "kernelspec": {
   "display_name": "Python 3",
   "language": "python",
   "name": "python3"
  },
  "language_info": {
   "codemirror_mode": {
    "name": "ipython",
    "version": 3
   },
   "file_extension": ".py",
   "mimetype": "text/x-python",
   "name": "python",
   "nbconvert_exporter": "python",
   "pygments_lexer": "ipython3",
   "version": "3.11.3"
  }
 },
 "nbformat": 4,
 "nbformat_minor": 2
}
