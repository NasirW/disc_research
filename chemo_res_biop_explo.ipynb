{
 "cells": [
  {
   "cell_type": "markdown",
   "metadata": {},
   "source": [
    "# Chemotherapy Resistant Biopsied Exploration\n",
    "For exploration of chemotherapy resistance in biopsied samples, this Jupyter Notebook provides a playground for analyzing and visualizing the data."
   ]
  },
  {
   "cell_type": "code",
   "execution_count": 1,
   "metadata": {},
   "outputs": [],
   "source": [
    "import os\n",
    "import numpy as np\n",
    "import pandas as pd\n",
    "import ast\n",
    "import matplotlib.pyplot as plt\n",
    "import glob"
   ]
  },
  {
   "cell_type": "code",
   "execution_count": 2,
   "metadata": {},
   "outputs": [],
   "source": [
    "DATA_DIR = os.path.join('data', 'chemo_res')\n",
    "RES_DATA = os.path.join(DATA_DIR, 'Resistant')\n",
    "SEN_DATA = os.path.join(DATA_DIR, 'Sensitive')\n",
    "\n",
    "RES_FILES = glob.glob(os.path.join(RES_DATA, '*.png'))\n",
    "SEN_FILES = glob.glob(os.path.join(SEN_DATA, '*.png'))"
   ]
  },
  {
   "cell_type": "code",
   "execution_count": 9,
   "metadata": {},
   "outputs": [
    {
     "name": "stdout",
     "output_type": "stream",
     "text": [
      "{'res':     Patient Number Still Image Number Lesion/Region Number\n",
      "0              100                  1                    1\n",
      "1              100                  1                   10\n",
      "2              100                  1                    2\n",
      "3              100                  1                    3\n",
      "4              100                  1                    4\n",
      "..             ...                ...                  ...\n",
      "365             99                  6                    5\n",
      "366             99                  6                    6\n",
      "367             99                  6                    7\n",
      "368             99                  6                    8\n",
      "369             99                  6                    9\n",
      "\n",
      "[370 rows x 3 columns], 'sen':     Patient Number Still Image Number Lesion/Region Number\n",
      "0              108                  1                    1\n",
      "1              108                  1                   10\n",
      "2              108                  1                    2\n",
      "3              108                  1                    3\n",
      "4              108                  1                    4\n",
      "..             ...                ...                  ...\n",
      "425             97                  4                    5\n",
      "426             97                  4                    6\n",
      "427             97                  4                    7\n",
      "428             97                  4                    8\n",
      "429             97                  4                    9\n",
      "\n",
      "[430 rows x 3 columns]}\n"
     ]
    }
   ],
   "source": [
    "# Extracting the patient number, still image number, and lesion/region number from the filenames\n",
    "data = {}\n",
    "\n",
    "for filetype, files in zip(['res', 'sen'], [RES_FILES, SEN_FILES]):\n",
    "    patient_numbers = []\n",
    "    still_image_numbers = []\n",
    "    lesion_numbers = []\n",
    "\n",
    "    for filename in files:\n",
    "        _, patient_image, region = os.path.basename(filename).split('_')\n",
    "        patient_number, still_image_number = patient_image.split('.')\n",
    "        lesion_number, _ = region.split('.')\n",
    "        \n",
    "        patient_numbers.append(patient_number)\n",
    "        still_image_numbers.append(still_image_number)\n",
    "        lesion_numbers.append(lesion_number)\n",
    "\n",
    "    data[filetype] = pd.DataFrame({'Patient Number': patient_numbers, 'Still Image Number': still_image_numbers, 'Lesion/Region Number': lesion_numbers})\n",
    "\n",
    "print(data)"
   ]
  },
  {
   "cell_type": "code",
   "execution_count": 10,
   "metadata": {},
   "outputs": [
    {
     "data": {
      "text/html": [
       "<div>\n",
       "<style scoped>\n",
       "    .dataframe tbody tr th:only-of-type {\n",
       "        vertical-align: middle;\n",
       "    }\n",
       "\n",
       "    .dataframe tbody tr th {\n",
       "        vertical-align: top;\n",
       "    }\n",
       "\n",
       "    .dataframe thead th {\n",
       "        text-align: right;\n",
       "    }\n",
       "</style>\n",
       "<table border=\"1\" class=\"dataframe\">\n",
       "  <thead>\n",
       "    <tr style=\"text-align: right;\">\n",
       "      <th></th>\n",
       "      <th>Patient Number</th>\n",
       "      <th>Still Image Number</th>\n",
       "      <th>Lesion/Region Number</th>\n",
       "    </tr>\n",
       "  </thead>\n",
       "  <tbody>\n",
       "    <tr>\n",
       "      <th>count</th>\n",
       "      <td>370</td>\n",
       "      <td>370</td>\n",
       "      <td>370</td>\n",
       "    </tr>\n",
       "    <tr>\n",
       "      <th>unique</th>\n",
       "      <td>12</td>\n",
       "      <td>7</td>\n",
       "      <td>10</td>\n",
       "    </tr>\n",
       "    <tr>\n",
       "      <th>top</th>\n",
       "      <td>100</td>\n",
       "      <td>1</td>\n",
       "      <td>4</td>\n",
       "    </tr>\n",
       "    <tr>\n",
       "      <th>freq</th>\n",
       "      <td>60</td>\n",
       "      <td>100</td>\n",
       "      <td>37</td>\n",
       "    </tr>\n",
       "  </tbody>\n",
       "</table>\n",
       "</div>"
      ],
      "text/plain": [
       "       Patient Number Still Image Number Lesion/Region Number\n",
       "count             370                370                  370\n",
       "unique             12                  7                   10\n",
       "top               100                  1                    4\n",
       "freq               60                100                   37"
      ]
     },
     "execution_count": 10,
     "metadata": {},
     "output_type": "execute_result"
    }
   ],
   "source": [
    "data['res'].describe()"
   ]
  },
  {
   "cell_type": "markdown",
   "metadata": {},
   "source": [
    "In `RES_FILES`\n",
    "* 12 unique patients\n",
    "* 7 unique still image numbers\n",
    "* 10 unique region numbers\n",
    "```python\n",
    "12 * 7 * 10 = 840 > 370\n",
    "```"
   ]
  },
  {
   "cell_type": "code",
   "execution_count": 11,
   "metadata": {},
   "outputs": [
    {
     "data": {
      "text/html": [
       "<div>\n",
       "<style scoped>\n",
       "    .dataframe tbody tr th:only-of-type {\n",
       "        vertical-align: middle;\n",
       "    }\n",
       "\n",
       "    .dataframe tbody tr th {\n",
       "        vertical-align: top;\n",
       "    }\n",
       "\n",
       "    .dataframe thead th {\n",
       "        text-align: right;\n",
       "    }\n",
       "</style>\n",
       "<table border=\"1\" class=\"dataframe\">\n",
       "  <thead>\n",
       "    <tr style=\"text-align: right;\">\n",
       "      <th></th>\n",
       "      <th>Patient Number</th>\n",
       "      <th>Still Image Number</th>\n",
       "      <th>Lesion/Region Number</th>\n",
       "    </tr>\n",
       "  </thead>\n",
       "  <tbody>\n",
       "    <tr>\n",
       "      <th>count</th>\n",
       "      <td>430</td>\n",
       "      <td>430</td>\n",
       "      <td>430</td>\n",
       "    </tr>\n",
       "    <tr>\n",
       "      <th>unique</th>\n",
       "      <td>15</td>\n",
       "      <td>10</td>\n",
       "      <td>10</td>\n",
       "    </tr>\n",
       "    <tr>\n",
       "      <th>top</th>\n",
       "      <td>85</td>\n",
       "      <td>1</td>\n",
       "      <td>4</td>\n",
       "    </tr>\n",
       "    <tr>\n",
       "      <th>freq</th>\n",
       "      <td>60</td>\n",
       "      <td>110</td>\n",
       "      <td>43</td>\n",
       "    </tr>\n",
       "  </tbody>\n",
       "</table>\n",
       "</div>"
      ],
      "text/plain": [
       "       Patient Number Still Image Number Lesion/Region Number\n",
       "count             430                430                  430\n",
       "unique             15                 10                   10\n",
       "top                85                  1                    4\n",
       "freq               60                110                   43"
      ]
     },
     "execution_count": 11,
     "metadata": {},
     "output_type": "execute_result"
    }
   ],
   "source": [
    "data['sen'].describe()"
   ]
  },
  {
   "cell_type": "markdown",
   "metadata": {},
   "source": [
    "In `RES_FILES`\n",
    "* 15 unique patients\n",
    "* 10 unique still image numbers\n",
    "* 10 unique region numbers\n",
    "```python\n",
    "15 * 10 * 10 = 1500 > 430\n",
    "```"
   ]
  }
 ],
 "metadata": {
  "kernelspec": {
   "display_name": "pytorch_cpu",
   "language": "python",
   "name": "pytorch_cpu"
  },
  "language_info": {
   "codemirror_mode": {
    "name": "ipython",
    "version": 3
   },
   "file_extension": ".py",
   "mimetype": "text/x-python",
   "name": "python",
   "nbconvert_exporter": "python",
   "pygments_lexer": "ipython3",
   "version": "3.8.8"
  }
 },
 "nbformat": 4,
 "nbformat_minor": 2
}
